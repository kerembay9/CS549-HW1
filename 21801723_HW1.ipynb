{
 "cells": [
  {
   "cell_type": "markdown",
   "metadata": {},
   "source": [
    "# CS 549 Homework 1\n",
    "Kerem Bayramoğlu - 21801723"
   ]
  },
  {
   "cell_type": "code",
   "execution_count": 1,
   "metadata": {},
   "outputs": [],
   "source": [
    "import robotic as ry"
   ]
  },
  {
   "cell_type": "code",
   "execution_count": 2,
   "metadata": {},
   "outputs": [],
   "source": [
    "# use this during testing\n",
    "\n",
    "# C.clear()"
   ]
  },
  {
   "cell_type": "code",
   "execution_count": null,
   "metadata": {},
   "outputs": [],
   "source": [
    "# Create our configuration \n",
    "C = ry.Config()\n",
    "\n",
    "C.addFile(ry.raiPath(\"../rai-robotModels/objects/kitchen.g\"))\n",
    "\n",
    "C.view()"
   ]
  },
  {
   "cell_type": "markdown",
   "metadata": {},
   "source": [
    "# 1 Frames"
   ]
  },
  {
   "cell_type": "markdown",
   "metadata": {},
   "source": [
    "## Part A\n"
   ]
  },
  {
   "cell_type": "code",
   "execution_count": null,
   "metadata": {},
   "outputs": [],
   "source": [
    "#Creation of Hammer\n",
    "Handle = C.addFrame(name=\"handle\",parent=(\"sink1\"))\n",
    "Handle.setShape(ry.ST.ssBox, size=[0.3, 0.05, 0.03, 0.005])\n",
    "Handle.setColor([0.65, 0.50, 0.39])\n",
    "Handle.setRelativePosition([0.1, 0.1, 0.415])\n",
    "Head = C.addFrame(name=\"head\",parent=(\"handle\"))\n",
    "Head.setShape(ry.ST.ssBox, size=[0.1, 0.05, 0.03, 0.005])\n",
    "Head.setColor([0.55, 0.57,0.58])\n",
    "Head.setRelativePosition([0.125, 0.0, 0.0])\n",
    "Head.setQuaternion([1.0, 0.0, 0.0, 1.0]) \n",
    "print(\"frame name:\", Handle.name)\n",
    "print(\"pos:\", Handle.getPosition()) \n",
    "print(\"quat:\", Handle.getQuaternion())\n",
    "C.view()"
   ]
  },
  {
   "cell_type": "code",
   "execution_count": null,
   "metadata": {},
   "outputs": [],
   "source": [
    "C.getJointState() # without getting joint state, C.eval does not work?\n",
    "[y0,_] = C.eval(ry.FS.pose,['sink1'])\n",
    "print('y0: ', y0)\n",
    "[y,J] = C.eval(ry.FS.pose,['handle'])\n",
    "print('Handle Pose:', y) # pose is [position orientation]\n",
    "print('Handle Position:',Handle.getPosition())\n",
    "print('Handle Orientation:',Handle.getQuaternion())"
   ]
  },
  {
   "cell_type": "markdown",
   "metadata": {},
   "source": [
    "## Part B"
   ]
  },
  {
   "cell_type": "code",
   "execution_count": null,
   "metadata": {},
   "outputs": [],
   "source": [
    "#Creation of Mug\n",
    "Mug = C.addFrame(name=\"mug\", parent=(\"sink1\"))\n",
    "Mug.setShape(ry.ST.ssBox, size=[0.05, 0.05, 0.2, .01])\n",
    "Mug.setColor([0.2,0.2,0.2])\n",
    "Mug.setRelativePosition([-0.1, -0.1, 0.5])\n",
    "#Creation of Tray\n",
    "Tray = C.addFrame(name=\"tray\",parent=(\"stove1\"))\n",
    "Tray.setShape(ry.ST.ssBox, size=[0.2, 0.2, 0.005, 0.02])\n",
    "Tray.setColor([0.0,1.0,0.0])\n",
    "Tray.setRelativePosition([0.0,0.0,0.42])\n",
    "Tray.setQuaternion([1.0,0.0,0.0,0.5])\n",
    "\n",
    "C.view()"
   ]
  },
  {
   "cell_type": "markdown",
   "metadata": {},
   "source": [
    "## Part C"
   ]
  },
  {
   "cell_type": "markdown",
   "metadata": {},
   "source": [
    "#### State 1"
   ]
  },
  {
   "cell_type": "code",
   "execution_count": null,
   "metadata": {},
   "outputs": [],
   "source": [
    "Tray.setShape(ry.ST.ssBox, size=[0.2*2.2, 0.2*2.2, 0.005, 0.02]) # Make Tray bigger\n",
    "Handle.setQuaternion([1.0,0.0,0.0,0.5])\n",
    "Handle.setPosition(Tray.getPosition()+[-0.05,0.1,0.035]) #(0.005 is the height of the tray and 0.03 is the height of the handle)\n",
    "Mug.setPosition(Tray.getPosition()+[0,-0.1,0.12]) #(0.005 is the height of the tray and 0.03 is the height of the Mug)\n",
    "C.view()\n"
   ]
  },
  {
   "cell_type": "markdown",
   "metadata": {},
   "source": [
    "#### State 2"
   ]
  },
  {
   "cell_type": "code",
   "execution_count": null,
   "metadata": {},
   "outputs": [],
   "source": [
    "Table1 =  C.getFrame('table1')\n",
    "Handle.setQuaternion([1.0,0.0,0.0,0.5])\n",
    "Tray.setPosition(Table1.getPosition()+[0,0,0.405])\n",
    "Handle.setQuaternion([1,0,0,3])\n",
    "Handle.setPosition(Tray.getPosition()+[-0.12,-0.06,0.035]) #(0.005 is the height of the tray and 0.03 is the height of the handle)\n",
    "Mug.setPosition(Tray.getPosition()+[0.1,0.06,0.12]) #(0.005 is the height of the tray and 0.03 is the height of the Mug)\n",
    "\n",
    "C.view()"
   ]
  },
  {
   "cell_type": "markdown",
   "metadata": {},
   "source": [
    "## Part D"
   ]
  },
  {
   "cell_type": "code",
   "execution_count": null,
   "metadata": {},
   "outputs": [],
   "source": [
    "[y,J] = C.eval(ry.FS.poseRel,['mug','sink1'])\n",
    "print('relative pose of mug to sink1: ',y)"
   ]
  },
  {
   "cell_type": "markdown",
   "metadata": {},
   "source": [
    "# 2 Two Link Manipulator"
   ]
  },
  {
   "cell_type": "code",
   "execution_count": 46,
   "metadata": {},
   "outputs": [
    {
     "data": {
      "text/plain": [
       "0"
      ]
     },
     "execution_count": 46,
     "metadata": {},
     "output_type": "execute_result"
    }
   ],
   "source": [
    "C.clear()\n",
    "C.addFile(\"/home/monke/rai/CS549-HW1/sth.g\")\n",
    "C.view()"
   ]
  },
  {
   "cell_type": "markdown",
   "metadata": {},
   "source": [
    "# 4 Cargobot"
   ]
  },
  {
   "cell_type": "code",
   "execution_count": 52,
   "metadata": {},
   "outputs": [
    {
     "data": {
      "text/plain": [
       "0"
      ]
     },
     "execution_count": 52,
     "metadata": {},
     "output_type": "execute_result"
    }
   ],
   "source": [
    "C.clear()\n",
    "C.addFile(\"/home/monke/rai/CS549-HW1/GFiles/Cargobot/cargobot.g\")\n",
    "C.addFile(\"/home/monke/rai/CS549-HW1/GFiles/Cargobot/cargo.g\")\n",
    "C.addFile(\"/home/monke/rai/CS549-HW1/GFiles/Cargobot/maze.g\")\n",
    "C.view()"
   ]
  }
 ],
 "metadata": {
  "kernelspec": {
   "display_name": "Python 3",
   "language": "python",
   "name": "python3"
  },
  "language_info": {
   "codemirror_mode": {
    "name": "ipython",
    "version": 3
   },
   "file_extension": ".py",
   "mimetype": "text/x-python",
   "name": "python",
   "nbconvert_exporter": "python",
   "pygments_lexer": "ipython3",
   "version": "3.8.10"
  }
 },
 "nbformat": 4,
 "nbformat_minor": 4
}
