{
 "cells": [
  {
   "cell_type": "markdown",
   "metadata": {},
   "source": [
    "# CS 549 Homework 1\n",
    "Kerem Bayramoğlu - 21801723"
   ]
  },
  {
   "cell_type": "code",
   "execution_count": 1,
   "metadata": {},
   "outputs": [],
   "source": [
    "import robotic as ry"
   ]
  },
  {
   "cell_type": "code",
   "execution_count": 36,
   "metadata": {},
   "outputs": [],
   "source": [
    "# use this during testing\n",
    "\n",
    "# C.clear()"
   ]
  },
  {
   "cell_type": "code",
   "execution_count": 2,
   "metadata": {},
   "outputs": [
    {
     "data": {
      "text/plain": [
       "0"
      ]
     },
     "execution_count": 2,
     "metadata": {},
     "output_type": "execute_result"
    }
   ],
   "source": [
    "# Create our configuration \n",
    "C = ry.Config()\n",
    "\n",
    "C.addFile(ry.raiPath(\"../rai-robotModels/objects/kitchen.g\"))\n",
    "\n",
    "C.view()"
   ]
  },
  {
   "cell_type": "markdown",
   "metadata": {},
   "source": [
    "# Part A\n"
   ]
  },
  {
   "cell_type": "code",
   "execution_count": 3,
   "metadata": {},
   "outputs": [
    {
     "name": "stdout",
     "output_type": "stream",
     "text": [
      "frame name: handle\n",
      "pos: [-0.4    2.1    0.815]\n",
      "quat: [1. 0. 0. 0.]\n"
     ]
    },
    {
     "data": {
      "text/plain": [
       "0"
      ]
     },
     "execution_count": 3,
     "metadata": {},
     "output_type": "execute_result"
    }
   ],
   "source": [
    "#Creation of Hammer\n",
    "Handle = C.addFrame(name=\"handle\",parent=(\"sink1\"))\n",
    "Handle.setShape(ry.ST.ssBox, size=[0.3, 0.05, 0.03, 0.005])\n",
    "Handle.setColor([0.65, 0.50, 0.39])\n",
    "Handle.setRelativePosition([0.1, 0.1, 0.415])\n",
    "Head = C.addFrame(name=\"head\",parent=(\"handle\"))\n",
    "Head.setShape(ry.ST.ssBox, size=[0.1, 0.05, 0.03, 0.005])\n",
    "Head.setColor([0.55, 0.57,0.58])\n",
    "Head.setRelativePosition([0.125, 0.0, 0.0])\n",
    "Head.setQuaternion([1.0, 0.0, 0.0, 1.0]) \n",
    "print(\"frame name:\", Handle.name)\n",
    "print(\"pos:\", Handle.getPosition()) \n",
    "print(\"quat:\", Handle.getQuaternion())\n",
    "C.view()"
   ]
  },
  {
   "cell_type": "markdown",
   "metadata": {},
   "source": [
    "# Part B"
   ]
  },
  {
   "cell_type": "code",
   "execution_count": 4,
   "metadata": {},
   "outputs": [
    {
     "data": {
      "text/plain": [
       "0"
      ]
     },
     "execution_count": 4,
     "metadata": {},
     "output_type": "execute_result"
    }
   ],
   "source": [
    "#Creation of Mug\n",
    "Mug = C.addFrame(name=\"mug\", parent=(\"sink1\"))\n",
    "Mug.setShape(ry.ST.ssBox, size=[0.05, 0.05, 0.2, .01])\n",
    "Mug.setColor([0.2,0.2,0.2])\n",
    "Mug.setRelativePosition([-0.1, -0.1, 0.5])\n",
    "#Creation of Tray\n",
    "Tray = C.addFrame(name=\"tray\",parent=(\"stove1\"))\n",
    "Tray.setShape(ry.ST.ssBox, size=[0.2, 0.2, 0.005, 0.02])\n",
    "Tray.setColor([0.0,1.0,0.0])\n",
    "Tray.setRelativePosition([0.0,0.0,0.42])\n",
    "Tray.setQuaternion([1.0,0.0,0.0,0.5])\n",
    "\n",
    "C.view()"
   ]
  },
  {
   "cell_type": "markdown",
   "metadata": {},
   "source": [
    "# Part C"
   ]
  },
  {
   "cell_type": "code",
   "execution_count": 17,
   "metadata": {},
   "outputs": [
    {
     "ename": "TypeError",
     "evalue": "setRelativePosition(): incompatible function arguments. The following argument types are supported:\n    1. (self: robotic._robotic.Frame, arg0: arr) -> robotic._robotic.Frame\n\nInvoked with: <robotic._robotic.Frame object at 0x7f7bd3397c30>, 't(0 0 0)'",
     "output_type": "error",
     "traceback": [
      "\u001b[0;31m---------------------------------------------------------------------------\u001b[0m",
      "\u001b[0;31mTypeError\u001b[0m                                 Traceback (most recent call last)",
      "Cell \u001b[0;32mIn[17], line 3\u001b[0m\n\u001b[1;32m      1\u001b[0m \u001b[38;5;66;03m# Make tray bigger\u001b[39;00m\n\u001b[1;32m      2\u001b[0m Tray\u001b[38;5;241m.\u001b[39msetShape(ry\u001b[38;5;241m.\u001b[39mST\u001b[38;5;241m.\u001b[39mssBox, size\u001b[38;5;241m=\u001b[39m[\u001b[38;5;241m0.2\u001b[39m\u001b[38;5;241m*\u001b[39m\u001b[38;5;241m2\u001b[39m, \u001b[38;5;241m0.2\u001b[39m\u001b[38;5;241m*\u001b[39m\u001b[38;5;241m2\u001b[39m, \u001b[38;5;241m0.005\u001b[39m\u001b[38;5;241m*\u001b[39m\u001b[38;5;241m2\u001b[39m, \u001b[38;5;241m0.02\u001b[39m\u001b[38;5;241m*\u001b[39m\u001b[38;5;241m2\u001b[39m])\n\u001b[0;32m----> 3\u001b[0m \u001b[43mHandle\u001b[49m\u001b[38;5;241;43m.\u001b[39;49m\u001b[43msetRelativePosition\u001b[49m\u001b[43m(\u001b[49m\u001b[38;5;124;43m'\u001b[39;49m\u001b[38;5;124;43mt(0 0 0)\u001b[39;49m\u001b[38;5;124;43m'\u001b[39;49m\u001b[43m)\u001b[49m\n\u001b[1;32m      4\u001b[0m C\u001b[38;5;241m.\u001b[39mview()\n",
      "\u001b[0;31mTypeError\u001b[0m: setRelativePosition(): incompatible function arguments. The following argument types are supported:\n    1. (self: robotic._robotic.Frame, arg0: arr) -> robotic._robotic.Frame\n\nInvoked with: <robotic._robotic.Frame object at 0x7f7bd3397c30>, 't(0 0 0)'"
     ]
    }
   ],
   "source": [
    "# Make tray bigger\n",
    "Tray.setShape(ry.ST.ssBox, size=[0.2*2, 0.2*2, 0.005*2, 0.02*2])\n",
    "C.eval(ry.FS.positionRel, ['sink1', 'sink1'], scale=[1], target=[0, 0, .3])\n",
    "C.view()\n"
   ]
  }
 ],
 "metadata": {
  "kernelspec": {
   "display_name": "Python 3",
   "language": "python",
   "name": "python3"
  },
  "language_info": {
   "codemirror_mode": {
    "name": "ipython",
    "version": 3
   },
   "file_extension": ".py",
   "mimetype": "text/x-python",
   "name": "python",
   "nbconvert_exporter": "python",
   "pygments_lexer": "ipython3",
   "version": "3.8.10"
  }
 },
 "nbformat": 4,
 "nbformat_minor": 4
}
