{
 "cells": [
  {
   "cell_type": "markdown",
   "metadata": {},
   "source": [
    "# CS 549 Homework 1\n",
    "Kerem Bayramoğlu - 21801723"
   ]
  },
  {
   "cell_type": "code",
   "execution_count": 4,
   "metadata": {},
   "outputs": [],
   "source": [
    "import robotic as ry"
   ]
  },
  {
   "cell_type": "code",
   "execution_count": 36,
   "metadata": {},
   "outputs": [],
   "source": [
    "# use this during testing\n",
    "\n",
    "# C.clear()"
   ]
  },
  {
   "cell_type": "code",
   "execution_count": 42,
   "metadata": {},
   "outputs": [
    {
     "data": {
      "text/plain": [
       "0"
      ]
     },
     "execution_count": 42,
     "metadata": {},
     "output_type": "execute_result"
    }
   ],
   "source": [
    "# Create our configuration \n",
    "C = ry.Config()\n",
    "\n",
    "C.addFile(ry.raiPath(\"../rai-robotModels/objects/kitchen.g\"))\n",
    "\n",
    "C.view()"
   ]
  },
  {
   "cell_type": "code",
   "execution_count": 66,
   "metadata": {},
   "outputs": [
    {
     "name": "stdout",
     "output_type": "stream",
     "text": [
      "-- WARNING:kin.cpp:addFrame:193(-1) frame already exists! returning existing without modifications!\n",
      "frame name: handle\n",
      "pos: [-0.4    2.1    0.815]\n",
      "quat: [1. 0. 0. 0.]\n",
      "-- WARNING:kin.cpp:addFrame:193(-1) frame already exists! returning existing without modifications!\n"
     ]
    },
    {
     "data": {
      "text/plain": [
       "37"
      ]
     },
     "execution_count": 66,
     "metadata": {},
     "output_type": "execute_result"
    }
   ],
   "source": [
    "#Part A\n",
    "#Creation of Hammer\n",
    "Handle = C.addFrame(name=\"handle\",parent=(\"sink1\"))\n",
    "Handle.setShape(ry.ST.ssBox, size=[0.3, 0.05, 0.03, 0.005])\n",
    "Handle.setColor([0.65, 0.50, 0.39])\n",
    "Handle.setRelativePosition([0.1, 0.1, 0.415])\n",
    "Head = C.addFrame(name=\"head\",parent=(\"handle\"))\n",
    "Head.setShape(ry.ST.ssBox, size=[0.1, 0.05, 0.03, 0.005])\n",
    "Head.setColor([0.55, 0.57,0.58])\n",
    "Head.setRelativePosition([0.125, 0.0, 0.0])\n",
    "Head.setQuaternion([1.0, 0.0, 0.0, 1.0]) \n",
    "print(\"frame name:\", Handle.name)\n",
    "print(\"pos:\", Handle.getPosition()) \n",
    "print(\"quat:\", Handle.getQuaternion())\n",
    "C.view()"
   ]
  },
  {
   "cell_type": "code",
   "execution_count": 92,
   "metadata": {},
   "outputs": [
    {
     "name": "stdout",
     "output_type": "stream",
     "text": [
      "-- WARNING:kin.cpp:addFrame:193(-1) frame already exists! returning existing without modifications!\n",
      "-- WARNING:kin.cpp:addFrame:193(-1) frame already exists! returning existing without modifications!\n"
     ]
    },
    {
     "data": {
      "text/plain": [
       "37"
      ]
     },
     "execution_count": 92,
     "metadata": {},
     "output_type": "execute_result"
    }
   ],
   "source": [
    "#Part B\n",
    "#Creation of Mug\n",
    "Mug = C.addFrame(name=\"mug\", parent=(\"sink1\"))\n",
    "Mug.setShape(ry.ST.ssBox, size=[0.05, 0.05, 0.2, .01])\n",
    "Mug.setColor([0.2,0.2,0.2])\n",
    "Mug.setRelativePosition([-0.1, -0.1, 0.5])\n",
    "#Creation of Tray\n",
    "Tray = C.addFrame(name=\"tray\",parent=(\"stove1\"))\n",
    "Tray.setShape(ry.ST.ssBox, size=[0.2, 0.2, 0.005, 0.02])\n",
    "Tray.setColor([0.0,1.0,0.0])\n",
    "Tray.setRelativePosition([0.0,0.0,0.42])\n",
    "Tray.setQuaternion([1.0,0.0,0.0,0.5])\n",
    "\n",
    "C.view()"
   ]
  },
  {
   "cell_type": "code",
   "execution_count": 98,
   "metadata": {},
   "outputs": [
    {
     "data": {
      "text/plain": [
       "37"
      ]
     },
     "execution_count": 98,
     "metadata": {},
     "output_type": "execute_result"
    }
   ],
   "source": [
    "#Part C\n",
    "# Make tray bigger\n",
    "Tray.setShape(ry.ST.ssBox, size=[0.2*2, 0.2*2, 0.005*2, 0.02*2])\n",
    "\n",
    "C.view()\n"
   ]
  }
 ],
 "metadata": {
  "kernelspec": {
   "display_name": "Python 3 (ipykernel)",
   "language": "python",
   "name": "python3"
  }
 },
 "nbformat": 4,
 "nbformat_minor": 4
}
